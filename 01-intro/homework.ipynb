{
 "cells": [
  {
   "cell_type": "code",
   "execution_count": 1,
   "id": "49ab53fa-86d4-47dd-8a77-cd038adbdc66",
   "metadata": {},
   "outputs": [],
   "source": [
    "import mistralai\n",
    "import os\n",
    "from mistralai import Mistral\n",
    "\n",
    "api_key = os.environ[\"MISTRAL_API_KEY\"]\n",
    "model = \"mistral-large-latest\"\n",
    "\n",
    "client = Mistral(api_key=api_key)"
   ]
  },
  {
   "cell_type": "code",
   "execution_count": 2,
   "id": "838a5e3a-bc8a-4167-8da8-0ca3dc173f58",
   "metadata": {},
   "outputs": [],
   "source": [
    "response = client.chat.complete(\n",
    "    model=model,\n",
    "    messages=[{\"role\": \"user\", \"content\": \"Is it too late to join the course?\"}]\n",
    ")"
   ]
  },
  {
   "cell_type": "code",
   "execution_count": 3,
   "id": "19d1c92f-7a3d-48f9-98bb-7c6897cd0f15",
   "metadata": {},
   "outputs": [
    {
     "data": {
      "text/plain": [
       "\"The possibility of joining a course after it has started depends on several factors, and the answer can vary:\\n\\n1. **Course Policies**: Some courses have strict deadlines for enrollment, while others may allow late enrollment, sometimes with a penalty or additional requirements.\\n\\n2. **Institution Rules**: The rules of the educational institution (such as a university, college, or online platform) may also influence whether you can join late.\\n\\n3. **Instructor Permission**: In some cases, the course instructor may have the discretion to allow late enrollments.\\n\\n4. **Course Progress**: How much of the course has already been completed can impact your ability to catch up. If you've missed a significant portion, it might be challenging to join and keep up with the material.\\n\\n5. **Prerequisites and Assignments**: Consider any prerequisites or early assignments that you might have missed.\\n\\nTo get a definitive answer, you should:\\n\\n- Check the course syllabus or guidelines for information on late enrollment.\\n- Contact the course instructor or the institution’s admissions/registrar's office for specific advice.\\n- Evaluate your ability to catch up on any missed material or assignments.\\n\\nIt's always better to take these steps promptly to ensure you don't miss out on any important deadlines or opportunities.\""
      ]
     },
     "execution_count": 3,
     "metadata": {},
     "output_type": "execute_result"
    }
   ],
   "source": [
    "response.choices[0].message.content"
   ]
  },
  {
   "cell_type": "code",
   "execution_count": null,
   "id": "c07442df-46dc-49f0-93ea-5342bf052e99",
   "metadata": {},
   "outputs": [],
   "source": []
  },
  {
   "cell_type": "code",
   "execution_count": null,
   "id": "b2c6b8e4-f82d-4606-9149-1e69b94ede2e",
   "metadata": {},
   "outputs": [],
   "source": []
  }
 ],
 "metadata": {
  "kernelspec": {
   "display_name": "Python 3 (ipykernel)",
   "language": "python",
   "name": "python3"
  },
  "language_info": {
   "codemirror_mode": {
    "name": "ipython",
    "version": 3
   },
   "file_extension": ".py",
   "mimetype": "text/x-python",
   "name": "python",
   "nbconvert_exporter": "python",
   "pygments_lexer": "ipython3",
   "version": "3.12.1"
  }
 },
 "nbformat": 4,
 "nbformat_minor": 5
}
